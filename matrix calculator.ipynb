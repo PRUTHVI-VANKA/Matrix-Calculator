{
 "cells": [
  {
   "cell_type": "code",
   "execution_count": null,
   "id": "fa0ae8cd",
   "metadata": {},
   "outputs": [
    {
     "name": "stdout",
     "output_type": "stream",
     "text": [
      "Choose an operation:\n",
      "1. Add two matrices\n",
      "2. Subtract two matrices\n",
      "3. Multiply two matrices\n",
      "4. Transpose a matrix\n",
      "5. Find the inverse of a matrix\n"
     ]
    }
   ],
   "source": [
    "import numpy as np\n",
    "\n",
    "def create_matrix(rows, cols):\n",
    "    return np.zeros((rows, cols))\n",
    "\n",
    "def print_matrix(matrix):\n",
    "    print(matrix)\n",
    "\n",
    "def add_matrices(matrix1, matrix2):\n",
    "    return np.add(matrix1, matrix2)\n",
    "\n",
    "def subtract_matrices(matrix1, matrix2):\n",
    "    return np.subtract(matrix1, matrix2)\n",
    "\n",
    "def multiply_matrices(matrix1, matrix2):\n",
    "    return np.dot(matrix1, matrix2)\n",
    "\n",
    "def transpose_matrix(matrix):\n",
    "    return np.transpose(matrix)\n",
    "\n",
    "def inverse_matrix(matrix):\n",
    "    return np.linalg.inv(matrix)\n",
    "\n",
    "if __name__ == '__main__':\n",
    "    print(\"Choose an operation:\\n1. Add two matrices\\n2. Subtract two matrices\\n3. Multiply two matrices\\n4. Transpose a matrix\\n5. Find the inverse of a matrix\")\n",
    "    choice = int(input(\"Enter your choice: \"))\n",
    "    rows = int(input(\"Enter the number of rows: \"))\n",
    "    cols = int(input(\"Enter the number of columns: \"))\n",
    "    matrix1 = create_matrix(rows, cols)\n",
    "    matrix2 = create_matrix(rows, cols)\n",
    "    print(\"Enter matrix 1:\")\n",
    "    for i in range(rows):\n",
    "        for j in range(cols):\n",
    "            matrix1[i][j] = int(input())\n",
    "    print(\"Enter matrix 2:\")\n",
    "    for i in range(rows):\n",
    "        for j in range(cols):\n",
    "            matrix2[i][j] = int(input())\n",
    "\n",
    "    if choice == 1:\n",
    "        result = add_matrices(matrix1, matrix2)\n",
    "        print(\"Result:\")\n",
    "        print_matrix(result)\n",
    "    elif choice == 2:\n",
    "        result = subtract_matrices(matrix1, matrix2)\n",
    "        print(\"Result:\")\n",
    "        print_matrix(result)\n",
    "    elif choice == 3:\n",
    "        result = multiply_matrices(matrix1, matrix2)\n",
    "        print(\"Result:\")\n",
    "        print_matrix(result)\n",
    "    elif choice == 4:\n",
    "        result = transpose_matrix(matrix1)\n",
    "        print(\"Result:\")\n",
    "        print_matrix(result)\n",
    "    elif choice == 5:\n",
    "        result = inverse_matrix(matrix1)\n",
    "        print(\"Result:\")\n",
    "        print_matrix(result)\n",
    "    else:\n",
    "        print(\"Invalid choice!\")\n"
   ]
  },
  {
   "cell_type": "code",
   "execution_count": null,
   "id": "1158f9af",
   "metadata": {},
   "outputs": [],
   "source": []
  },
  {
   "cell_type": "code",
   "execution_count": null,
   "id": "a3d38f7e",
   "metadata": {},
   "outputs": [],
   "source": []
  }
 ],
 "metadata": {
  "kernelspec": {
   "display_name": "Python 3 (ipykernel)",
   "language": "python",
   "name": "python3"
  },
  "language_info": {
   "codemirror_mode": {
    "name": "ipython",
    "version": 3
   },
   "file_extension": ".py",
   "mimetype": "text/x-python",
   "name": "python",
   "nbconvert_exporter": "python",
   "pygments_lexer": "ipython3",
   "version": "3.11.7"
  }
 },
 "nbformat": 4,
 "nbformat_minor": 5
}
